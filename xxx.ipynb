{
 "cells": [
  {
   "cell_type": "code",
   "execution_count": 4,
   "metadata": {},
   "outputs": [
    {
     "name": "stdout",
     "output_type": "stream",
     "text": [
      "[[1 2]\n",
      " [3 4]]\n"
     ]
    }
   ],
   "source": [
    "import numpy as np\n",
    "\n",
    "a = np.array((1,2))\n",
    "b = np.array((3, 4))\n",
    "\n",
    "c = np.vstack((a, b))\n",
    "print(c)"
   ]
  },
  {
   "cell_type": "code",
   "execution_count": 16,
   "metadata": {},
   "outputs": [
    {
     "name": "stdout",
     "output_type": "stream",
     "text": [
      "Fitted Line: y =  2.09  * x +  0.11\n"
     ]
    }
   ],
   "source": [
    "import numpy as np\n",
    "\n",
    "# Define the data\n",
    "x = np.array([1, 2, 3, 4, 5])\n",
    "y = np.array([2.3, 4.1, 6.4, 8.6, 10.5])\n",
    "\n",
    "# Perform linear least squares fit\n",
    "coeffs = np.polyfit(x, y, 1)\n",
    "a = coeffs[0]\n",
    "b = coeffs[1]\n",
    "\n",
    "# Print the fitting parameters\n",
    "print(\"Fitted Line: y = \", round(a, 4), \" * x + \", round(b, 4))"
   ]
  }
 ],
 "metadata": {
  "kernelspec": {
   "display_name": "base",
   "language": "python",
   "name": "python3"
  },
  "language_info": {
   "codemirror_mode": {
    "name": "ipython",
    "version": 3
   },
   "file_extension": ".py",
   "mimetype": "text/x-python",
   "name": "python",
   "nbconvert_exporter": "python",
   "pygments_lexer": "ipython3",
   "version": "3.11.8"
  }
 },
 "nbformat": 4,
 "nbformat_minor": 2
}
